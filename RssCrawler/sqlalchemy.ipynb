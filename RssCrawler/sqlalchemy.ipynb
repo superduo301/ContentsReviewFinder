{
 "cells": [
  {
   "cell_type": "code",
   "execution_count": 1,
   "metadata": {},
   "outputs": [
    {
     "data": {
      "text/plain": [
       "'1.2.1'"
      ]
     },
     "execution_count": 1,
     "metadata": {},
     "output_type": "execute_result"
    }
   ],
   "source": [
    "import sqlalchemy\n",
    "\n",
    "sqlalchemy.__version__"
   ]
  },
  {
   "cell_type": "code",
   "execution_count": 49,
   "metadata": {},
   "outputs": [],
   "source": [
    "# connection\n",
    "\n",
    "from sqlalchemy import create_engine\n",
    "\n",
    "engine = create_engine('sqlite:///:memory:', echo=True)"
   ]
  },
  {
   "cell_type": "code",
   "execution_count": 50,
   "metadata": {},
   "outputs": [],
   "source": [
    "# declare a mapping\n",
    "\n",
    "from sqlalchemy.ext.declarative import declarative_base\n",
    "from sqlalchemy import Column, Integer, String, TIMESTAMP\n",
    "\n",
    "Base = declarative_base()\n",
    "\n",
    "class Post(Base):\n",
    "    __tablename__ = 'posts'\n",
    "    \n",
    "    id = Column(Integer, primary_key=True)\n",
    "    title = Column(String)\n",
    "    guid = Column(String)\n",
    "    link = Column(String)\n",
    "    published = Column(TIMESTAMP)\n",
    "\n",
    "    def __repr__(self):\n",
    "        return \"<Post(id='%s', title='%s', guid='%s', link='%s', published='%s')>\" % (self.id, self.title, self.guid, self.link, self.published)\n",
    "    \n",
    "Post.__table__    "
   ]
  },
  {
   "cell_type": "code",
   "execution_count": 5,
   "metadata": {},
   "outputs": [
    {
     "data": {
      "text/plain": [
       "Table('posts', MetaData(bind=None), Column('id', Integer(), table=<posts>, primary_key=True, nullable=False), Column('title', String(), table=<posts>), Column('guid', String(), table=<posts>), Column('link', String(), table=<posts>), Column('published', TIMESTAMP(), table=<posts>), schema=None)"
      ]
     },
     "execution_count": 5,
     "metadata": {},
     "output_type": "execute_result"
    }
   ],
   "source": [
    "# create a schema\n",
    "\n",
    "Base.metadata.create_all(engine)"
   ]
  },
  {
   "cell_type": "code",
   "execution_count": 7,
   "metadata": {},
   "outputs": [],
   "source": [
    "# creating a session\n",
    "\n",
    "from sqlalchemy.orm import sessionmaker\n",
    "Session = sessionmaker(bind=engine)\n",
    "session = Session()"
   ]
  },
  {
   "cell_type": "code",
   "execution_count": 41,
   "metadata": {},
   "outputs": [
    {
     "name": "stdout",
     "output_type": "stream",
     "text": [
      "<Post(id='None', title='title', guid='guid', link='link', published='None')>\n"
     ]
    }
   ],
   "source": [
    "first_post = Post(title=\"title\", guid=\"guid\", link=\"link\")\n",
    "print (first_post)\n",
    "\n",
    "session.add(first_post)"
   ]
  },
  {
   "cell_type": "code",
   "execution_count": 48,
   "metadata": {},
   "outputs": [
    {
     "name": "stdout",
     "output_type": "stream",
     "text": [
      "2018-04-21 19:10:15,497 INFO sqlalchemy.engine.base.Engine BEGIN (implicit)\n",
      "2018-04-21 19:10:15,498 INFO sqlalchemy.engine.base.Engine SELECT posts.id AS posts_id, posts.title AS posts_title, posts.guid AS posts_guid, posts.link AS posts_link, posts.published AS posts_published \n",
      "FROM posts \n",
      "WHERE posts.title = ?\n",
      "2018-04-21 19:10:15,499 INFO sqlalchemy.engine.base.Engine ('title',)\n"
     ]
    },
    {
     "data": {
      "text/plain": [
       "[<Post(id='1', title='title', guid='guid', link='1', published='None')>,\n",
       " <Post(id='2', title='title', guid='guid', link='link', published='None')>,\n",
       " <Post(id='3', title='title', guid='guid', link='link', published='None')>,\n",
       " <Post(id='5', title='title', guid='guid', link='link', published='None')>]"
      ]
     },
     "execution_count": 48,
     "metadata": {},
     "output_type": "execute_result"
    }
   ],
   "source": [
    "post_results = session.query(Post).filter_by(title='title').all()\n",
    "post_results"
   ]
  },
  {
   "cell_type": "code",
   "execution_count": 38,
   "metadata": {},
   "outputs": [
    {
     "data": {
      "text/plain": [
       "IdentitySet([<Post(id='4', title='renewed', guid='guid', link='link', published='None')>])"
      ]
     },
     "execution_count": 38,
     "metadata": {},
     "output_type": "execute_result"
    }
   ],
   "source": [
    "first_post.title = 'renewed'\n",
    "\n",
    "\n",
    "# first_post is post_result"
   ]
  },
  {
   "cell_type": "code",
   "execution_count": 47,
   "metadata": {},
   "outputs": [
    {
     "name": "stdout",
     "output_type": "stream",
     "text": [
      "IdentitySet([])\n",
      "IdentitySet([])\n"
     ]
    }
   ],
   "source": [
    "print (session.dirty)\n",
    "print (session.new)"
   ]
  },
  {
   "cell_type": "code",
   "execution_count": 46,
   "metadata": {},
   "outputs": [
    {
     "name": "stdout",
     "output_type": "stream",
     "text": [
      "2018-04-21 19:09:37,414 INFO sqlalchemy.engine.base.Engine UPDATE posts SET title=? WHERE posts.id = ?\n",
      "2018-04-21 19:09:37,414 INFO sqlalchemy.engine.base.Engine ('renewed', 4)\n",
      "2018-04-21 19:09:37,415 INFO sqlalchemy.engine.base.Engine INSERT INTO posts (title, guid, link, published) VALUES (?, ?, ?, ?)\n",
      "2018-04-21 19:09:37,416 INFO sqlalchemy.engine.base.Engine ('title', 'guid', 'link', None)\n",
      "2018-04-21 19:09:37,417 INFO sqlalchemy.engine.base.Engine COMMIT\n"
     ]
    }
   ],
   "source": [
    "session.commit()"
   ]
  }
 ],
 "metadata": {
  "kernelspec": {
   "display_name": "Python 3",
   "language": "python",
   "name": "python3"
  },
  "language_info": {
   "codemirror_mode": {
    "name": "ipython",
    "version": 3
   },
   "file_extension": ".py",
   "mimetype": "text/x-python",
   "name": "python",
   "nbconvert_exporter": "python",
   "pygments_lexer": "ipython3",
   "version": "3.6.4"
  }
 },
 "nbformat": 4,
 "nbformat_minor": 2
}
