{
 "cells": [
  {
   "cell_type": "code",
   "execution_count": 51,
   "metadata": {},
   "outputs": [
    {
     "name": "stdout",
     "output_type": "stream",
     "text": [
      "http://yarmini.com/feed\n"
     ]
    }
   ],
   "source": [
    "import feedparser\n",
    "import pprint\n",
    "\n",
    "pp = pprint.PrettyPrinter()\n",
    "\n",
    "url = 'http://yarmini.com/feed'\n",
    "print(url)\n",
    "\n",
    "\n",
    "feed = feedparser.parse(url)"
   ]
  },
  {
   "cell_type": "code",
   "execution_count": 57,
   "metadata": {},
   "outputs": [
    {
     "name": "stdout",
     "output_type": "stream",
     "text": [
      "{'id': 'http://54.249.106.10/?p=807',\n",
      " 'link': 'http://yarmini.com/archives/807',\n",
      " 'published': 'Sat, 14 Apr 2018 15:34:16 +0000',\n",
      " 'title': '태연한 인생 – 은희경, 매혹과 패턴 그리고 고독'}\n",
      "{'id': 'http://yarmini.com/?p=773',\n",
      " 'link': 'http://yarmini.com/archives/773',\n",
      " 'published': 'Sun, 25 Mar 2018 13:40:17 +0000',\n",
      " 'title': '책 읽기의 풍부한 경험에 대해'}\n",
      "{'id': 'http://54.249.106.10/?p=756',\n",
      " 'link': 'http://yarmini.com/archives/756',\n",
      " 'published': 'Sat, 20 Jan 2018 01:37:12 +0000',\n",
      " 'title': '2018, 새로운 시작'}\n"
     ]
    }
   ],
   "source": [
    "#print (feed)\n",
    "\n",
    "for post in feed.entries:\n",
    "    parsed_post = {\n",
    "        'title': post.title,\n",
    "        'id': post.id,\n",
    "        'link': post.link,\n",
    "        'published': post.published\n",
    "    }\n",
    "    \n",
    "    pp.pprint(parsed_post)\n",
    "#     print(feed.title)\n",
    "#     print(feed.id)\n",
    "#     print(feed.link)\n",
    "#     print(feed.published)  \n",
    "#     print(\"\\n\")\n"
   ]
  },
  {
   "cell_type": "code",
   "execution_count": null,
   "metadata": {
    "collapsed": true
   },
   "outputs": [],
   "source": []
  }
 ],
 "metadata": {
  "kernelspec": {
   "display_name": "Python 3",
   "language": "python",
   "name": "python3"
  },
  "language_info": {
   "codemirror_mode": {
    "name": "ipython",
    "version": 3
   },
   "file_extension": ".py",
   "mimetype": "text/x-python",
   "name": "python",
   "nbconvert_exporter": "python",
   "pygments_lexer": "ipython3",
   "version": "3.6.2"
  }
 },
 "nbformat": 4,
 "nbformat_minor": 2
}
